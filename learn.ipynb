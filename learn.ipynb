{
 "cells": [
  {
   "cell_type": "code",
   "execution_count": null,
   "metadata": {},
   "outputs": [],
   "source": [
    "push:\n",
    "    branches: [main]\n",
    "# to run this workflow manually from the Actions tab\n",
    "workflow_dispatch\n",
    "\n",
    "jobs:\n",
    "    sync-to-hub:\n",
    "        runs-on: ubuntu-latest\n",
    "        steps:\n",
    "            - uses: actions/checkout@v2\n",
    "                with:\n",
    "                    fetch-depth:0\n",
    "            - name: Add remote\n",
    "                env:\n",
    "                    HG: ${{ secrets.HG}}\n",
    "                run: git remote add space https://huggingface.co/spaces/atewamba/demo\n",
    "            - name Push to hub\n",
    "                env:\n",
    "                    HG:${{secret.HG}}\n",
    "                run: git push --force https://huggingface.co/spaces/atewamba/demo main"
   ]
  }
 ],
 "metadata": {
  "language_info": {
   "name": "python"
  }
 },
 "nbformat": 4,
 "nbformat_minor": 2
}
